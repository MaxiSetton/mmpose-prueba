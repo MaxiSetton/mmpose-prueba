{
 "cells": [
  {
   "cell_type": "code",
   "execution_count": 5,
   "id": "cec5a100",
   "metadata": {},
   "outputs": [
    {
     "data": {
      "text/plain": [
       "True"
      ]
     },
     "execution_count": 5,
     "metadata": {},
     "output_type": "execute_result"
    }
   ],
   "source": [
    "import torch\n",
    "device = torch.device('cuda')\n",
    "torch.cuda.is_available()"
   ]
  },
  {
   "cell_type": "code",
   "execution_count": 2,
   "id": "8bf43ca5",
   "metadata": {},
   "outputs": [],
   "source": [
    "from kp_api import KeypointExtractor"
   ]
  },
  {
   "cell_type": "code",
   "execution_count": 7,
   "id": "2ae9cf1f",
   "metadata": {},
   "outputs": [],
   "source": [
    "kp_cfg_path='configs/wholebody_2d_keypoint/rtmpose/cocktail14/rtmw-l_8xb320-270e_cocktail14-384x288.py'\n",
    "kp_ckpt_path='rtmw-dw-x-l_simcc-cocktail14_270e-384x288-20231122.pth'"
   ]
  },
  {
   "cell_type": "code",
   "execution_count": 8,
   "id": "ed9eb8fa",
   "metadata": {},
   "outputs": [
    {
     "name": "stdout",
     "output_type": "stream",
     "text": [
      "Loads checkpoint by local backend from path: rtmw-dw-x-l_simcc-cocktail14_270e-384x288-20231122.pth\n"
     ]
    },
    {
     "name": "stderr",
     "output_type": "stream",
     "text": [
      "c:\\Users\\48113164\\AppData\\Local\\miniconda3\\envs\\torch-gpu\\lib\\site-packages\\mmengine\\runner\\checkpoint.py:347: FutureWarning: You are using `torch.load` with `weights_only=False` (the current default value), which uses the default pickle module implicitly. It is possible to construct malicious pickle data which will execute arbitrary code during unpickling (See https://github.com/pytorch/pytorch/blob/main/SECURITY.md#untrusted-models for more details). In a future release, the default value for `weights_only` will be flipped to `True`. This limits the functions that could be executed during unpickling. Arbitrary objects will no longer be allowed to be loaded via this mode unless they are explicitly allowlisted by the user via `torch.serialization.add_safe_globals`. We recommend you start setting `weights_only=True` for any use case where you don't have full control of the loaded file. Please open an issue on GitHub for any issues related to this experimental feature.\n",
      "  checkpoint = torch.load(filename, map_location=map_location)\n"
     ]
    },
    {
     "name": "stdout",
     "output_type": "stream",
     "text": [
      "Keypoint extractor model loaded successfully.\n"
     ]
    }
   ],
   "source": [
    "kp_extractor=KeypointExtractor(kp_cfg_path, kp_ckpt_path, device=device)"
   ]
  },
  {
   "cell_type": "code",
   "execution_count": 18,
   "id": "434200dc",
   "metadata": {},
   "outputs": [],
   "source": [
    "import os\n",
    "import sys\n",
    "import cv2\n",
    "import subprocess\n",
    "import tempfile\n",
    "import numpy as np\n",
    "import pandas as pd\n",
    "\n",
    "def download_and_extract_keypoints(url, youtube_id, label, start, end, kp_extractor, output_dir):\n",
    "    start_sec, end_sec = float(start), float(end)\n",
    "    os.makedirs(os.path.join(output_dir, label), exist_ok=True)\n",
    "\n",
    "    with tempfile.TemporaryDirectory() as tmpdir:\n",
    "        video_path = os.path.join(tmpdir, \"temp_clip.mp4\")\n",
    "\n",
    "        # 🔹 Descargar video completo con yt-dlp\n",
    "        cmd = [\n",
    "            sys.executable, \"-m\", \"yt_dlp\",\n",
    "            \"-f\", \"mp4\",\n",
    "            \"-o\", video_path,\n",
    "            url\n",
    "        ]\n",
    "        result = subprocess.run(cmd, capture_output=True, text=True)\n",
    "        if result.returncode != 0:\n",
    "            print(f\"⚠️ Error descargando {youtube_id}: {result.stderr.strip()}\")\n",
    "            return\n",
    "\n",
    "        # 🔹 Recortar clip en memoria usando OpenCV\n",
    "        cap = cv2.VideoCapture(video_path)\n",
    "        fps = cap.get(cv2.CAP_PROP_FPS)\n",
    "        total_frames = int(cap.get(cv2.CAP_PROP_FRAME_COUNT))\n",
    "        duration = total_frames / fps\n",
    "\n",
    "        if start_sec >= duration:\n",
    "            print(f\"⚠️ {youtube_id}: start fuera de rango ({start_sec}s >= {duration}s)\")\n",
    "            cap.release()\n",
    "            return\n",
    "\n",
    "        start_frame = int(start_sec * fps)\n",
    "        end_frame = int(min(end_sec, duration) * fps)\n",
    "\n",
    "        frames = []\n",
    "        for i in range(total_frames):\n",
    "            ret, frame = cap.read()\n",
    "            if not ret:\n",
    "                break\n",
    "            if start_frame <= i <= end_frame:\n",
    "                frames.append(frame)\n",
    "        cap.release()\n",
    "\n",
    "        if not frames:\n",
    "            print(f\"⚠️ {youtube_id}: sin frames válidos entre {start}-{end}\")\n",
    "            return\n",
    "\n",
    "        # 🔹 Guardar clip temporal\n",
    "        trimmed_path = os.path.join(tmpdir, \"trimmed.mp4\")\n",
    "        h, w, _ = frames[0].shape\n",
    "        out = cv2.VideoWriter(trimmed_path, cv2.VideoWriter_fourcc(*'mp4v'), fps, (w, h))\n",
    "        for f in frames:\n",
    "            out.write(f)\n",
    "        out.release()\n",
    "\n",
    "        # 🔹 Extraer keypoints\n",
    "        keypoints = kp_extractor.extract_from_video(trimmed_path)\n",
    "        if keypoints is None:\n",
    "            print(f\"⚠️ No se detectaron keypoints en {youtube_id}\")\n",
    "            return\n",
    "\n",
    "        # 🔹 Guardar keypoints como .npy\n",
    "        save_path = os.path.join(output_dir, label, f\"{youtube_id}.npy\")\n",
    "        np.save(save_path, keypoints)\n",
    "        print(f\"✅ Guardado {save_path}\")"
   ]
  },
  {
   "cell_type": "code",
   "execution_count": 19,
   "id": "c7ccfa21",
   "metadata": {},
   "outputs": [
    {
     "name": "stdout",
     "output_type": "stream",
     "text": [
      "Extracting keypoints from 251 frames...\n"
     ]
    },
    {
     "name": "stderr",
     "output_type": "stream",
     "text": [
      "Processing Frames:   0%|          | 0/251 [00:00<?, ?it/s]c:\\Users\\48113164\\Documents\\GitHub\\mmpose-prueba\\mmpose\\mmpose\\models\\utils\\csp_layer.py:32: FutureWarning: `torch.cuda.amp.autocast(args...)` is deprecated. Please use `torch.amp.autocast('cuda', args...)` instead.\n",
      "  with torch.cuda.amp.autocast(enabled=False):\n",
      "c:\\Users\\48113164\\Documents\\GitHub\\mmpose-prueba\\mmpose\\mmpose\\models\\backbones\\csp_darknet.py:118: FutureWarning: `torch.cuda.amp.autocast(args...)` is deprecated. Please use `torch.amp.autocast('cuda', args...)` instead.\n",
      "  with torch.cuda.amp.autocast(enabled=False):\n",
      "Processing Frames: 100%|██████████| 251/251 [00:18<00:00, 13.44it/s]\n"
     ]
    },
    {
     "name": "stdout",
     "output_type": "stream",
     "text": [
      "✅ Guardado output_dir\\abseiling\\abseiling\\-3B32lodo2M.npy\n",
      "Extracting keypoints from 300 frames...\n"
     ]
    },
    {
     "name": "stderr",
     "output_type": "stream",
     "text": [
      "Processing Frames: 100%|██████████| 300/300 [00:26<00:00, 11.15it/s]\n"
     ]
    },
    {
     "ename": "FileNotFoundError",
     "evalue": "[Errno 2] No such file or directory: 'output_dir\\\\abseiling\\\\abseiling\\\\-7kbO0v4hag.npy'",
     "output_type": "error",
     "traceback": [
      "\u001b[1;31m---------------------------------------------------------------------------\u001b[0m",
      "\u001b[1;31mFileNotFoundError\u001b[0m                         Traceback (most recent call last)",
      "Cell \u001b[1;32mIn[19], line 17\u001b[0m\n\u001b[0;32m     15\u001b[0m url \u001b[38;5;241m=\u001b[39m \u001b[38;5;124mf\u001b[39m\u001b[38;5;124m\"\u001b[39m\u001b[38;5;124mhttps://youtu.be/\u001b[39m\u001b[38;5;132;01m{\u001b[39;00myoutube_id\u001b[38;5;132;01m}\u001b[39;00m\u001b[38;5;124m\"\u001b[39m\n\u001b[0;32m     16\u001b[0m out_dir \u001b[38;5;241m=\u001b[39m os\u001b[38;5;241m.\u001b[39mpath\u001b[38;5;241m.\u001b[39mjoin(\u001b[38;5;124m\"\u001b[39m\u001b[38;5;124moutput_dir\u001b[39m\u001b[38;5;124m\"\u001b[39m, label)\n\u001b[1;32m---> 17\u001b[0m \u001b[43mdownload_and_extract_keypoints\u001b[49m\u001b[43m(\u001b[49m\u001b[43murl\u001b[49m\u001b[43m,\u001b[49m\u001b[43m \u001b[49m\u001b[43myoutube_id\u001b[49m\u001b[43m,\u001b[49m\u001b[43m \u001b[49m\u001b[43mlabel\u001b[49m\u001b[43m,\u001b[49m\u001b[43m \u001b[49m\u001b[43mstart\u001b[49m\u001b[43m,\u001b[49m\u001b[43m \u001b[49m\u001b[43mend\u001b[49m\u001b[43m,\u001b[49m\u001b[43m \u001b[49m\u001b[43mkp_extractor\u001b[49m\u001b[43m,\u001b[49m\u001b[43m \u001b[49m\u001b[43mout_dir\u001b[49m\u001b[43m)\u001b[49m\n",
      "Cell \u001b[1;32mIn[18], line 71\u001b[0m, in \u001b[0;36mdownload_and_extract_keypoints\u001b[1;34m(url, youtube_id, label, start, end, kp_extractor, output_dir)\u001b[0m\n\u001b[0;32m     69\u001b[0m \u001b[38;5;66;03m# 🔹 Guardar keypoints como .npy\u001b[39;00m\n\u001b[0;32m     70\u001b[0m save_path \u001b[38;5;241m=\u001b[39m os\u001b[38;5;241m.\u001b[39mpath\u001b[38;5;241m.\u001b[39mjoin(output_dir, label, \u001b[38;5;124mf\u001b[39m\u001b[38;5;124m\"\u001b[39m\u001b[38;5;132;01m{\u001b[39;00myoutube_id\u001b[38;5;132;01m}\u001b[39;00m\u001b[38;5;124m.npy\u001b[39m\u001b[38;5;124m\"\u001b[39m)\n\u001b[1;32m---> 71\u001b[0m \u001b[43mnp\u001b[49m\u001b[38;5;241;43m.\u001b[39;49m\u001b[43msave\u001b[49m\u001b[43m(\u001b[49m\u001b[43msave_path\u001b[49m\u001b[43m,\u001b[49m\u001b[43m \u001b[49m\u001b[43mkeypoints\u001b[49m\u001b[43m)\u001b[49m\n\u001b[0;32m     72\u001b[0m \u001b[38;5;28mprint\u001b[39m(\u001b[38;5;124mf\u001b[39m\u001b[38;5;124m\"\u001b[39m\u001b[38;5;124m✅ Guardado \u001b[39m\u001b[38;5;132;01m{\u001b[39;00msave_path\u001b[38;5;132;01m}\u001b[39;00m\u001b[38;5;124m\"\u001b[39m)\n",
      "File \u001b[1;32mc:\\Users\\48113164\\AppData\\Local\\miniconda3\\envs\\torch-gpu\\lib\\site-packages\\numpy\\lib\\npyio.py:542\u001b[0m, in \u001b[0;36msave\u001b[1;34m(file, arr, allow_pickle, fix_imports)\u001b[0m\n\u001b[0;32m    540\u001b[0m     \u001b[38;5;28;01mif\u001b[39;00m \u001b[38;5;129;01mnot\u001b[39;00m file\u001b[38;5;241m.\u001b[39mendswith(\u001b[38;5;124m'\u001b[39m\u001b[38;5;124m.npy\u001b[39m\u001b[38;5;124m'\u001b[39m):\n\u001b[0;32m    541\u001b[0m         file \u001b[38;5;241m=\u001b[39m file \u001b[38;5;241m+\u001b[39m \u001b[38;5;124m'\u001b[39m\u001b[38;5;124m.npy\u001b[39m\u001b[38;5;124m'\u001b[39m\n\u001b[1;32m--> 542\u001b[0m     file_ctx \u001b[38;5;241m=\u001b[39m \u001b[38;5;28;43mopen\u001b[39;49m\u001b[43m(\u001b[49m\u001b[43mfile\u001b[49m\u001b[43m,\u001b[49m\u001b[43m \u001b[49m\u001b[38;5;124;43m\"\u001b[39;49m\u001b[38;5;124;43mwb\u001b[39;49m\u001b[38;5;124;43m\"\u001b[39;49m\u001b[43m)\u001b[49m\n\u001b[0;32m    544\u001b[0m \u001b[38;5;28;01mwith\u001b[39;00m file_ctx \u001b[38;5;28;01mas\u001b[39;00m fid:\n\u001b[0;32m    545\u001b[0m     arr \u001b[38;5;241m=\u001b[39m np\u001b[38;5;241m.\u001b[39masanyarray(arr)\n",
      "\u001b[1;31mFileNotFoundError\u001b[0m: [Errno 2] No such file or directory: 'output_dir\\\\abseiling\\\\abseiling\\\\-7kbO0v4hag.npy'"
     ]
    }
   ],
   "source": [
    "N = 2\n",
    "\n",
    "# Leer anotaciones desde CSV\n",
    "df = pd.read_csv(\"../data/train.csv\")  # debe tener youtube_id, start_time, end_time, label\n",
    "\n",
    "for idx, row in df.iterrows():\n",
    "    if idx >= N:\n",
    "        break\n",
    "    youtube_id = row['youtube_id']\n",
    "    start = int(row['time_start'])\n",
    "    end = int(row['time_end'])\n",
    "    label = row['label']\n",
    "    \n",
    "    # Descargar clip usando yt-dlp (del segundo 'start' al 'end')\n",
    "    url = f\"https://youtu.be/{youtube_id}\"\n",
    "    out_dir = os.path.join(\"output_dir\", label)\n",
    "    download_and_extract_keypoints(url, youtube_id, label, start, end, kp_extractor, out_dir)"
   ]
  },
  {
   "cell_type": "code",
   "execution_count": 25,
   "id": "0f5ab1a2",
   "metadata": {},
   "outputs": [
    {
     "name": "stderr",
     "output_type": "stream",
     "text": [
      "Exception in thread Thread-97:\n",
      "Traceback (most recent call last):\n",
      "  File \"c:\\Users\\48113164\\AppData\\Local\\miniconda3\\envs\\torch-gpu\\lib\\threading.py\", line 980, in _bootstrap_inner\n",
      "    self.run()\n",
      "  File \"c:\\Users\\48113164\\AppData\\Local\\miniconda3\\envs\\torch-gpu\\lib\\site-packages\\ipykernel\\ipkernel.py\", line 772, in run_closure\n",
      "    _threading_Thread_run(self)\n",
      "  File \"c:\\Users\\48113164\\AppData\\Local\\miniconda3\\envs\\torch-gpu\\lib\\threading.py\", line 917, in run\n",
      "    self._target(*self._args, **self._kwargs)\n",
      "  File \"c:\\Users\\48113164\\AppData\\Local\\miniconda3\\envs\\torch-gpu\\lib\\subprocess.py\", line 1495, in _readerthread\n",
      "    buffer.append(fh.read())\n",
      "ValueError: I/O operation on closed file.\n"
     ]
    },
    {
     "name": "stdout",
     "output_type": "stream",
     "text": [
      "⚠️ Error en ffmpeg (video -3B32lodo2M): ffmpeg version 4.3.1 Copyright (c) 2000-2020 the FFmpeg developers\n",
      "  built with gcc 10.2.1 (GCC) 20200726\n",
      "  configuration: --disable-static --enable-shared --enable-gpl --enable-version3 --enable-sdl2 --enable-fontconfig --enable-gnutls --enable-iconv --enable-libass --enable-libdav1d --enable-libbluray --enable-libfreetype --enable-libmp3lame --enable-libopencore-amrnb --enable-libopencore-amrwb --enable-libopenjpeg --enable-libopus --enable-libshine --enable-libsnappy --enable-libsoxr --enable-libsrt --enable-libtheora --enable-libtwolame --enable-libvpx --enable-libwavpack --enable-libwebp --enable-libx264 --enable-libx265 --enable-libxml2 --enable-libzimg --enable-lzma --enable-zlib --enable-gmp --enable-libvidstab --enable-libvmaf --enable-libvorbis --enable-libvo-amrwbenc --enable-libmysofa --enable-libspeex --enable-libxvid --enable-libaom --enable-libgsm --enable-librav1e --disable-w32threads --enable-libmfx --enable-ffnvcodec --enable-cuda-llvm --enable-cuvid --enable-d3d11va --enable-nvenc --enable-nvdec --enable-dxva2 --enable-avisynth --enable-libopenmpt --enable-amf\n",
      "  libavutil      56. 51.100 / 56. 51.100\n",
      "  libavcodec     58. 91.100 / 58. 91.100\n",
      "  libavformat    58. 45.100 / 58. 45.100\n",
      "  libavdevice    58. 10.100 / 58. 10.100\n",
      "  libavfilter     7. 85.100 /  7. 85.100\n",
      "  libswscale      5.  7.100 /  5.  7.100\n",
      "  libswresample   3.  7.100 /  3.  7.100\n",
      "  libpostproc    55.  7.100 / 55.  7.100\n",
      "Input #0, mpegts, from 'pipe:':\n",
      "  Duration: N/A, start: 0.000000, bitrate: N/A\n",
      "  Program 1 \n",
      "    Stream #0:0[0x101]: Audio: aac (LC) ([15][0][0][0] / 0x000F), 44100 Hz, stereo, fltp, 127 kb/s\n",
      "    Stream #0:1[0x100]: Video: h264 (Main) ([27][0][0][0] / 0x001B), yuv420p(tv, bt709, progressive), 854x480 [SAR 1:1 DAR 427:240], 25 fps, 25 tbr, 90k tbn, 50 tbc\n",
      "[NULL @ 00000134aa624f80] Unable to find a suitable output format for 'output_dir\\abseiling\\-3B32lodo2M_59_69'\n",
      "output_dir\\abseiling\\-3B32lodo2M_59_69: Invalid argument\n",
      "Info de yt-dlp: Deprecated Feature: Support for Python version 3.9 has been deprecated. Please update to Python 3.10 or above\n",
      "WARNING: [youtube] Remote end closed connection without response. Retrying (1/3)...\n",
      "WARNING: [youtube] -3B32lodo2M: Some tv client https formats have been skipped as they are missing a url. YouTube may have enabled the SABR-only or Server-Side Ad Placement experiment for the current session. See  https://github.com/yt-dlp/yt-dlp/issues/12482  for more details\n",
      "WARNING: [youtube] -3B32lodo2M: Some web_safari client https formats have been skipped as they are missing a url. YouTube is forcing SABR streaming for this client. See  https://github.com/yt-dlp/yt-dlp/issues/12482  for more details\n",
      "WARNING: [youtube] -3B32lodo2M: Some web client https formats have been skipped as they are missing a url. YouTube is forcing SABR streaming for this client. See  https://github.com/yt-dlp/yt-dlp/issues/12482  for more details\n",
      "ERROR: Unable to download video: [Errno 22] Invalid argument\n"
     ]
    },
    {
     "name": "stderr",
     "output_type": "stream",
     "text": [
      "Exception in thread Thread-101:\n",
      "Traceback (most recent call last):\n",
      "  File \"c:\\Users\\48113164\\AppData\\Local\\miniconda3\\envs\\torch-gpu\\lib\\threading.py\", line 980, in _bootstrap_inner\n",
      "    self.run()\n",
      "  File \"c:\\Users\\48113164\\AppData\\Local\\miniconda3\\envs\\torch-gpu\\lib\\site-packages\\ipykernel\\ipkernel.py\", line 772, in run_closure\n",
      "    _threading_Thread_run(self)\n",
      "  File \"c:\\Users\\48113164\\AppData\\Local\\miniconda3\\envs\\torch-gpu\\lib\\threading.py\", line 917, in run\n",
      "    self._target(*self._args, **self._kwargs)\n",
      "  File \"c:\\Users\\48113164\\AppData\\Local\\miniconda3\\envs\\torch-gpu\\lib\\subprocess.py\", line 1495, in _readerthread\n",
      "    buffer.append(fh.read())\n",
      "ValueError: I/O operation on closed file.\n"
     ]
    },
    {
     "name": "stdout",
     "output_type": "stream",
     "text": [
      "⚠️ Error en ffmpeg (video -7kbO0v4hag): ffmpeg version 4.3.1 Copyright (c) 2000-2020 the FFmpeg developers\n",
      "  built with gcc 10.2.1 (GCC) 20200726\n",
      "  configuration: --disable-static --enable-shared --enable-gpl --enable-version3 --enable-sdl2 --enable-fontconfig --enable-gnutls --enable-iconv --enable-libass --enable-libdav1d --enable-libbluray --enable-libfreetype --enable-libmp3lame --enable-libopencore-amrnb --enable-libopencore-amrwb --enable-libopenjpeg --enable-libopus --enable-libshine --enable-libsnappy --enable-libsoxr --enable-libsrt --enable-libtheora --enable-libtwolame --enable-libvpx --enable-libwavpack --enable-libwebp --enable-libx264 --enable-libx265 --enable-libxml2 --enable-libzimg --enable-lzma --enable-zlib --enable-gmp --enable-libvidstab --enable-libvmaf --enable-libvorbis --enable-libvo-amrwbenc --enable-libmysofa --enable-libspeex --enable-libxvid --enable-libaom --enable-libgsm --enable-librav1e --disable-w32threads --enable-libmfx --enable-ffnvcodec --enable-cuda-llvm --enable-cuvid --enable-d3d11va --enable-nvenc --enable-nvdec --enable-dxva2 --enable-avisynth --enable-libopenmpt --enable-amf\n",
      "  libavutil      56. 51.100 / 56. 51.100\n",
      "  libavcodec     58. 91.100 / 58. 91.100\n",
      "  libavformat    58. 45.100 / 58. 45.100\n",
      "  libavdevice    58. 10.100 / 58. 10.100\n",
      "  libavfilter     7. 85.100 /  7. 85.100\n",
      "  libswscale      5.  7.100 /  5.  7.100\n",
      "  libswresample   3.  7.100 /  3.  7.100\n",
      "  libpostproc    55.  7.100 / 55.  7.100\n",
      "Input #0, mpegts, from 'pipe:':\n",
      "  Duration: N/A, start: 0.000000, bitrate: N/A\n",
      "  Program 1 \n",
      "    Stream #0:0[0x101]: Audio: aac (LC) ([15][0][0][0] / 0x000F), 44100 Hz, stereo, fltp, 128 kb/s\n",
      "    Stream #0:1[0x100]: Video: h264 (High) ([27][0][0][0] / 0x001B), yuv420p(tv, smpte170m/bt709/bt709, progressive), 1280x720 [SAR 1:1 DAR 16:9], 29.92 fps, 29.92 tbr, 90k tbn, 59.82 tbc\n",
      "[NULL @ 0000020a7aea0540] Unable to find a suitable output format for 'output_dir\\abseiling\\-7kbO0v4hag_107_117'\n",
      "output_dir\\abseiling\\-7kbO0v4hag_107_117: Invalid argument\n",
      "Info de yt-dlp: Deprecated Feature: Support for Python version 3.9 has been deprecated. Please update to Python 3.10 or above\n",
      "ERROR: Unable to download video: [Errno 32] Broken pipe\n"
     ]
    }
   ],
   "source": [
    "for idx, row in df.iterrows():\n",
    "    if idx >= N:\n",
    "        break\n",
    "    youtube_id = row['youtube_id']\n",
    "    start = int(row['time_start'])\n",
    "    end = int(row['time_end'])\n",
    "    label = row['label']\n",
    "    out_dir = os.path.join(\"output_dir\", label)\n",
    "    os.makedirs(out_dir, exist_ok=True)\n",
    "    out_temporal_path = os.path.join(out_dir, f'{youtube_id}_{start}_{end}')\n",
    "    out_path = os.path.join(out_dir, f\"{youtube_id}_{start}_{end}_keypoints.npy\")\n",
    "\n",
    "    \n",
    "    # Descargar clip usando yt-dlp (del segundo 'start' al 'end')\n",
    "    url = f\"https://youtu.be/{youtube_id}\"\n",
    "    # 4. Comando yt-dlp (MODIFICADO)\n",
    "    cmd_yt = [\n",
    "        'yt-dlp', '--quiet',\n",
    "        # Agrega esto para saltar verificaciones de edad\n",
    "        '--age-limit', '99', \n",
    "        # Formato mucho más simple y robusto.\n",
    "        # Pide el mejor mp4, si no, el mejor video disponible.\n",
    "        '-f', 'best[ext=mp4]/best', \n",
    "        url,\n",
    "        '-o', '-' # Salida a stdout\n",
    "    ]\n",
    "\n",
    "    # 5. Comando ffmpeg:\n",
    "    #    -i -  significa \"leer video desde stdin\"\n",
    "    #    -ss [start] y -to [end] aplican el corte\n",
    "    cmd_ff = [\n",
    "        'ffmpeg',\n",
    "        '-i', '-',  # ¡Clave! Entrada desde stdin\n",
    "        '-ss', str(start),\n",
    "        '-to', str(end),\n",
    "        '-c:v', 'libx264', # Forzar re-codificación, es más robusto\n",
    "        '-c:a', 'aac',\n",
    "        out_temporal_path,\n",
    "        '-y' # Sobrescribir archivo temporal\n",
    "    ]\n",
    "\n",
    "    # 6. Ejecutar ambos procesos y conectarlos\n",
    "    p_yt = None\n",
    "    p_ff = None\n",
    "    try:\n",
    "        # Iniciar yt-dlp, enviando su salida a la tubería\n",
    "        p_yt = subprocess.Popen(cmd_yt, stdout=subprocess.PIPE, stderr=subprocess.PIPE, text=True, encoding='utf-8')\n",
    "        \n",
    "        # Iniciar ffmpeg, leyendo su entrada desde la tubería\n",
    "        p_ff = subprocess.Popen(cmd_ff, stdin=p_yt.stdout, stdout=subprocess.PIPE, stderr=subprocess.PIPE, text=True, encoding='utf-8')\n",
    "        \n",
    "        # Cerrar el stdout de p_yt en este proceso\n",
    "        # (Es necesario para que p_yt reciba un \"Broken pipe\" si p_ff termina)\n",
    "        p_yt.stdout.close() \n",
    "\n",
    "        # Esperar a que ffmpeg termine y obtener sus salidas\n",
    "        # (yt-dlp terminará solo cuando ffmpeg deje de leer)\n",
    "        ff_stdout, ff_stderr = p_ff.communicate()\n",
    "\n",
    "        if p_ff.returncode != 0:\n",
    "            print(f\"⚠️ Error en ffmpeg (video {youtube_id}): {ff_stderr.strip()}\")\n",
    "            # Capturar también error de yt-dlp por si acaso\n",
    "            _, yt_stderr = p_yt.communicate()\n",
    "            print(f\"Info de yt-dlp: {yt_stderr.strip()}\")\n",
    "            continue\n",
    "\n",
    "    except Exception as e:\n",
    "        print(f\"Error al ejecutar Popen: {e}\")\n",
    "        # Asegurarse de que los procesos mueran si algo falla\n",
    "        if p_yt: p_yt.kill()\n",
    "        if p_ff: p_ff.kill()\n",
    "        continue\n",
    "\n",
    "    # --- FIN DE LA SOLUCIÓN 'PIPE' ---\n",
    "\n",
    "    # 7. Si todo fue bien, extraer keypoints (el resto de tu script)\n",
    "    try:\n",
    "        print(f\"Extrayendo keypoints de {out_temporal_path}...\")\n",
    "        keypoints = kp_extractor.extract_from_video(out_temporal_path)\n",
    "    \n",
    "        # 8. Guardar los keypoints\n",
    "        np.save(out_path, keypoints)\n",
    "        print(f\"✅ Keypoints guardados en: {out_path}\")\n",
    "        \n",
    "    except Exception as e:\n",
    "        print(f\"🚨 Error extrayendo keypoints de {youtube_id}: {e}\")\n",
    "        \n",
    "    finally:\n",
    "        # 9. Eliminar el video temporal\n",
    "        if os.path.exists(out_temporal_path):\n",
    "            os.remove(out_temporal_path)"
   ]
  },
  {
   "cell_type": "code",
   "execution_count": 22,
   "id": "de7d5215",
   "metadata": {},
   "outputs": [
    {
     "name": "stdout",
     "output_type": "stream",
     "text": [
      "\n",
      "Deprecated Feature: Support for Python version 3.9 has been deprecated. Please update to Python 3.10 or above\n",
      "\n",
      "\n",
      "ERROR: ffmpeg exited with code 1\n",
      "\n",
      "⚠️ Error descargando -3B32lodo2M: Deprecated Feature: Support for Python version 3.9 has been deprecated. Please update to Python 3.10 or above\n",
      "\n",
      "\n",
      "ERROR: ffmpeg exited with code 1\n",
      "\n",
      "\n",
      "Deprecated Feature: Support for Python version 3.9 has been deprecated. Please update to Python 3.10 or above\n",
      "\n",
      "\n",
      "ERROR: ffmpeg exited with code 1\n",
      "\n",
      "⚠️ Error descargando -7kbO0v4hag: Deprecated Feature: Support for Python version 3.9 has been deprecated. Please update to Python 3.10 or above\n",
      "\n",
      "\n",
      "ERROR: ffmpeg exited with code 1\n",
      "\n"
     ]
    }
   ],
   "source": [
    "import pandas as pd\n",
    "import subprocess\n",
    "import os\n",
    "import numpy as np\n",
    "\n",
    "# Número de videos a procesar\n",
    "N = 2\n",
    "\n",
    "# Leer anotaciones desde CSV\n",
    "df = pd.read_csv(\"../data/train.csv\")  # debe tener youtube_id, start_time, end_time, label\n",
    "\n",
    "for idx, row in df.iterrows():\n",
    "    if idx >= N:\n",
    "        break\n",
    "    youtube_id = row['youtube_id']\n",
    "    start = int(row['time_start'])\n",
    "    end = int(row['time_end'])\n",
    "    label = row['label']\n",
    "    out_dir = os.path.join(\"output_dir\", label)\n",
    "    os.makedirs(out_dir, exist_ok=True)\n",
    "    out_temporal_path = os.path.join(out_dir, f'{youtube_id}_{start}_{end}')\n",
    "    \n",
    "    # Descargar clip usando yt-dlp (del segundo 'start' al 'end')\n",
    "    url = f\"https://youtu.be/{youtube_id}\"\n",
    "    cmd = [\n",
    "        'yt-dlp', '--quiet', '--no-warnings',\n",
    "        # Pasa los argumentos de corte directamente a ffmpeg\n",
    "        '--external-downloader', 'ffmpeg',\n",
    "        '--external-downloader-args', f\"ffmpeg_i:-ss {start} -to {end}\",\n",
    "        '-o', out_temporal_path,\n",
    "        '--recode-video', 'mp4',\n",
    "        url\n",
    "    ]\n",
    "    result = subprocess.run(cmd, capture_output=True, text=True)\n",
    "    print(result.stdout)\n",
    "    print(result.stderr)\n",
    "\n",
    "    if result.returncode != 0:\n",
    "        print(f\"⚠️ Error descargando {youtube_id}: {result.stderr}\")\n",
    "        continue\n",
    "    \n",
    "    # Extraer keypoints del clip descargado\n",
    "    keypoints = kp_extractor.extract_from_video(\"temp_clip.mp4\")\n",
    "    \n",
    "    out_path = os.path.join(out_dir, f\"{youtube_id}_{start}_{end}_keypoints.npy\")\n",
    "    np.save(out_path, keypoints)\n",
    "    \n",
    "    # Eliminar video temporal\n",
    "    os.remove(\"temp_clip.mp4\")"
   ]
  },
  {
   "cell_type": "code",
   "execution_count": null,
   "id": "f3512890",
   "metadata": {},
   "outputs": [],
   "source": []
  }
 ],
 "metadata": {
  "kernelspec": {
   "display_name": "torch-gpu",
   "language": "python",
   "name": "python3"
  },
  "language_info": {
   "codemirror_mode": {
    "name": "ipython",
    "version": 3
   },
   "file_extension": ".py",
   "mimetype": "text/x-python",
   "name": "python",
   "nbconvert_exporter": "python",
   "pygments_lexer": "ipython3",
   "version": "3.9.23"
  }
 },
 "nbformat": 4,
 "nbformat_minor": 5
}
