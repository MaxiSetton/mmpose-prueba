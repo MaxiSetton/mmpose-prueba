{
 "cells": [
  {
   "cell_type": "code",
   "execution_count": null,
   "id": "37afafc5",
   "metadata": {
    "vscode": {
     "languageId": "plaintext"
    }
   },
   "outputs": [],
   "source": [
    "import sys\n",
    "print(sys.executable)"
   ]
  },
  {
   "cell_type": "code",
   "execution_count": null,
   "id": "343b27a7",
   "metadata": {
    "vscode": {
     "languageId": "plaintext"
    }
   },
   "outputs": [],
   "source": [
    "import torchvision\n",
    "from torchvision.datasets import Kinetics\n",
    "dataset = Kinetics(root=\"data\", frames_per_clip=1, num_classes='600',split=\"train\", download=True)"
   ]
  }
 ],
 "metadata": {
  "language_info": {
   "name": "python"
  }
 },
 "nbformat": 4,
 "nbformat_minor": 5
}
