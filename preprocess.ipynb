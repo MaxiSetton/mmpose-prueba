{
 "cells": [
  {
   "cell_type": "code",
   "execution_count": 1,
   "id": "37afafc5",
   "metadata": {},
   "outputs": [
    {
     "name": "stdout",
     "output_type": "stream",
     "text": [
      "c:\\Users\\48113164\\AppData\\Local\\miniconda3\\envs\\torch-gpu\\python.exe\n"
     ]
    }
   ],
   "source": [
    "import sys\n",
    "print(sys.executable)"
   ]
  },
  {
   "cell_type": "code",
   "execution_count": null,
   "id": "cec5a100",
   "metadata": {},
   "outputs": [],
   "source": [
    "import torch\n",
    "device = torch.device('cuda')"
   ]
  },
  {
   "cell_type": "code",
   "execution_count": null,
   "id": "3b80f551",
   "metadata": {},
   "outputs": [
    {
     "data": {
      "text/plain": [
       "True"
      ]
     },
     "execution_count": 4,
     "metadata": {},
     "output_type": "execute_result"
    }
   ],
   "source": [
    "torch.cuda.is_available()"
   ]
  },
  {
   "cell_type": "code",
   "execution_count": 8,
   "id": "8bf43ca5",
   "metadata": {},
   "outputs": [
    {
     "ename": "ModuleNotFoundError",
     "evalue": "No module named 'mmpose'",
     "output_type": "error",
     "traceback": [
      "\u001b[1;31m---------------------------------------------------------------------------\u001b[0m",
      "\u001b[1;31mModuleNotFoundError\u001b[0m                       Traceback (most recent call last)",
      "Cell \u001b[1;32mIn[8], line 1\u001b[0m\n\u001b[1;32m----> 1\u001b[0m \u001b[38;5;28;01mfrom\u001b[39;00m\u001b[38;5;250m \u001b[39m\u001b[38;5;21;01mkp_api\u001b[39;00m\u001b[38;5;250m \u001b[39m\u001b[38;5;28;01mimport\u001b[39;00m KeypointExtractor\n",
      "File \u001b[1;32mc:\\Users\\48113164\\Documents\\GitHub\\mmpose-prueba\\kp_api.py:6\u001b[0m\n\u001b[0;32m      4\u001b[0m \u001b[38;5;28;01mimport\u001b[39;00m\u001b[38;5;250m \u001b[39m\u001b[38;5;21;01mnumpy\u001b[39;00m\u001b[38;5;250m \u001b[39m\u001b[38;5;28;01mas\u001b[39;00m\u001b[38;5;250m \u001b[39m\u001b[38;5;21;01mnp\u001b[39;00m\n\u001b[0;32m      5\u001b[0m \u001b[38;5;28;01mimport\u001b[39;00m\u001b[38;5;250m \u001b[39m\u001b[38;5;21;01mtorch\u001b[39;00m\n\u001b[1;32m----> 6\u001b[0m \u001b[38;5;28;01mfrom\u001b[39;00m\u001b[38;5;250m \u001b[39m\u001b[38;5;21;01mmmpose\u001b[39;00m\u001b[38;5;21;01m.\u001b[39;00m\u001b[38;5;21;01mapis\u001b[39;00m\u001b[38;5;250m \u001b[39m\u001b[38;5;28;01mimport\u001b[39;00m inference_topdown, init_model\n\u001b[0;32m      7\u001b[0m \u001b[38;5;28;01mfrom\u001b[39;00m\u001b[38;5;250m \u001b[39m\u001b[38;5;21;01mtqdm\u001b[39;00m\u001b[38;5;250m \u001b[39m\u001b[38;5;28;01mimport\u001b[39;00m tqdm\n\u001b[0;32m      9\u001b[0m \u001b[38;5;66;03m# V-- THESE ARE THE CRUCIAL LINES TO ADD --V\u001b[39;00m\n\u001b[0;32m     10\u001b[0m \u001b[38;5;66;03m# This explicitly allows PyTorch to load checkpoints containing NumPy arrays.\u001b[39;00m\n",
      "\u001b[1;31mModuleNotFoundError\u001b[0m: No module named 'mmpose'"
     ]
    }
   ],
   "source": [
    "from kp_api import KeypointExtractor"
   ]
  },
  {
   "cell_type": "code",
   "execution_count": null,
   "id": "de7d5215",
   "metadata": {},
   "outputs": [],
   "source": [
    "import pandas as pd\n",
    "import subprocess\n",
    "import os\n",
    "import numpy as np\n",
    "\n",
    "# Número de videos a procesar\n",
    "N = 20\n",
    "\n",
    "# Leer anotaciones desde CSV\n",
    "df = pd.read_csv(\"data/train.csv\")  # debe tener youtube_id, start_time, end_time, label\n",
    "\n",
    "for idx, row in df.iterrows():\n",
    "    if idx >= N:\n",
    "        break\n",
    "    youtube_id = row['youtube_id']\n",
    "    start = int(row['start_time'])\n",
    "    end = int(row['end_time'])\n",
    "    label = row['label']\n",
    "    \n",
    "    # Descargar clip usando yt-dlp (del segundo 'start' al 'end')\n",
    "    url = f\"https://youtu.be/{youtube_id}\"\n",
    "    cmd = [\n",
    "        'yt-dlp', '--quiet', '--no-warnings', \n",
    "        '--download-sections', f\"*{start}-{end}\",\n",
    "        '-o', 'temp_clip.%(ext)s', url\n",
    "    ]\n",
    "    try:\n",
    "        subprocess.run(cmd, check=True)\n",
    "    except subprocess.CalledProcessError:\n",
    "        print(f\"No se pudo descargar {youtube_id} {start}-{end}, se omite\")\n",
    "        continue\n",
    "    \n",
    "    # Extraer keypoints del clip descargado\n",
    "    keypoints = KeypointExtractor.extract_from_video(\"temp_clip.mp4\")\n",
    "    \n",
    "    # Guardar keypoints en archivo .npy dentro de la carpeta de la etiqueta\n",
    "    out_dir = os.path.join(\"output_dir\", label)\n",
    "    os.makedirs(out_dir, exist_ok=True)\n",
    "    out_path = os.path.join(out_dir, f\"{youtube_id}_{start}_{end}_keypoints.npy\")\n",
    "    np.save(out_path, keypoints)\n",
    "    \n",
    "    # Eliminar video temporal\n",
    "    os.remove(\"temp_clip.mp4\")"
   ]
  },
  {
   "cell_type": "code",
   "execution_count": null,
   "id": "f3512890",
   "metadata": {},
   "outputs": [],
   "source": []
  }
 ],
 "metadata": {
  "kernelspec": {
   "display_name": "torch-gpu",
   "language": "python",
   "name": "python3"
  },
  "language_info": {
   "codemirror_mode": {
    "name": "ipython",
    "version": 3
   },
   "file_extension": ".py",
   "mimetype": "text/x-python",
   "name": "python",
   "nbconvert_exporter": "python",
   "pygments_lexer": "ipython3",
   "version": "3.9.23"
  }
 },
 "nbformat": 4,
 "nbformat_minor": 5
}
